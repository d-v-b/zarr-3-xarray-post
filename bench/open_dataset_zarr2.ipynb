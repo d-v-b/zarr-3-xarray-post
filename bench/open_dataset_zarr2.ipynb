{
 "cells": [
  {
   "cell_type": "code",
   "execution_count": null,
   "metadata": {
    "vscode": {
     "languageId": "plaintext"
    }
   },
   "outputs": [],
   "source": [
    "!pip install zarr==2.18 fsspec[gcs] xarray==2025.01.1"
   ]
  },
  {
   "cell_type": "code",
   "execution_count": null,
   "metadata": {
    "vscode": {
     "languageId": "plaintext"
    }
   },
   "outputs": [],
   "source": [
    "import xarray\n",
    "import time\n",
    "\n",
    "uri = 'gs://gcp-public-data-arco-era5/ar/full_37-1h-0p25deg-chunk-1.zarr-v3'\n",
    "start = time.time()\n",
    "xarray.open_dataset(\n",
    "\turi,     \n",
    "\tengine='zarr',     \n",
    "\tconsolidated=False,     \n",
    "\tstorage_options = {'token': 'anon'})\n",
    "\n",
    "print(f'elapsed:  {time.time() - start:0.2f} seconds')"
   ]
  }
 ],
 "metadata": {
  "language_info": {
   "name": "python"
  }
 },
 "nbformat": 4,
 "nbformat_minor": 2
}
