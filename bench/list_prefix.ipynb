{
 "cells": [
  {
   "cell_type": "code",
   "execution_count": null,
   "metadata": {},
   "outputs": [],
   "source": [
    "from gcsfs import GCSFileSystem\n",
    "from time import time\n",
    "\n",
    "url = 'gs://gcp-public-data-arco-era5/ar/full_37-1h-0p25deg-chunk-1.zarr-v3'\n",
    "\n",
    "fs = GCSFileSystem(token='anon')\n",
    "start = time()\n",
    "_ = fs.ls(url)\n",
    "\n",
    "elapsed = time() - start\n",
    "print(f'elapsed:  {time.time() - start:0.2f} seconds')"
   ]
  }
 ],
 "metadata": {
  "language_info": {
   "name": "python"
  }
 },
 "nbformat": 4,
 "nbformat_minor": 2
}
