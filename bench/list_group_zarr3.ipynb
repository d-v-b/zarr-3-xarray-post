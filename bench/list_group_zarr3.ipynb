{
 "cells": [
  {
   "cell_type": "code",
   "execution_count": null,
   "metadata": {},
   "outputs": [],
   "source": [
    "!pip install zarr==3.0.1 fsspec[gcs]"
   ]
  },
  {
   "cell_type": "code",
   "execution_count": null,
   "metadata": {},
   "outputs": [],
   "source": [
    "url = 'gs://gcp-public-data-arco-era5/ar/full_37-1h-0p25deg-chunk-1.zarr-v3'\n",
    "from zarr import open_group\n",
    "from time import time\n",
    "z = open_group(\n",
    "        url, \n",
    "        mode='r',\n",
    "        storage_options = {'token': 'anon', 'use_listings_cache': False})\n",
    "t = time()\n",
    "members = tuple(z.members())\n",
    "elapsed = time() - t\n",
    "print(f'Elapsed: {elapsed:0.2f} seconds')"
   ]
  }
 ],
 "metadata": {
  "kernelspec": {
   "display_name": ".venv",
   "language": "python",
   "name": "python3"
  },
  "language_info": {
   "name": "python",
   "version": "3.11.11"
  }
 },
 "nbformat": 4,
 "nbformat_minor": 2
}
